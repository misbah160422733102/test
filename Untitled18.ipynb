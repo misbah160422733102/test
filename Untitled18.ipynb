{
  "nbformat": 4,
  "nbformat_minor": 0,
  "metadata": {
    "colab": {
      "provenance": [],
      "authorship_tag": "ABX9TyPZ13EBG4U9mywX46jXSJFw",
      "include_colab_link": true
    },
    "kernelspec": {
      "name": "python3",
      "display_name": "Python 3"
    },
    "language_info": {
      "name": "python"
    }
  },
  "cells": [
    {
      "cell_type": "markdown",
      "metadata": {
        "id": "view-in-github",
        "colab_type": "text"
      },
      "source": [
        "<a href=\"https://colab.research.google.com/github/misbah160422733102/test/blob/main/Untitled18.ipynb\" target=\"_parent\"><img src=\"https://colab.research.google.com/assets/colab-badge.svg\" alt=\"Open In Colab\"/></a>"
      ]
    },
    {
      "cell_type": "code",
      "execution_count": 1,
      "metadata": {
        "colab": {
          "base_uri": "https://localhost:8080/"
        },
        "id": "PzSUVYrBqcmt",
        "outputId": "148062b9-d969-4272-f2c4-53bf5b2f09c4"
      },
      "outputs": [
        {
          "output_type": "stream",
          "name": "stdout",
          "text": [
            "Mean Squared Error: 0.49\n",
            "R^2 Score: -0.21\n"
          ]
        }
      ],
      "source": [
        "import pandas as pd\n",
        "import numpy as np\n",
        "from sklearn.model_selection import train_test_split\n",
        "from sklearn.ensemble import RandomForestRegressor\n",
        "from sklearn.metrics import mean_squared_error, r2_score\n",
        "\n",
        "# Define your data in a dictionary format\n",
        "data = {\n",
        "    'Year': [2004, 2005, 2006, 2007, 2008, 2009, 2010, 2011, 2012, 2013,\n",
        "             2014, 2015, 2016, 2017, 2018, 2019, 2020, 2021, 2022, 2023, 2024],\n",
        "    'T': [np.nan, np.nan, 16.8, 16.7, 16.4, 17.2, 16.6, 17.3, 17.7, 16.6,\n",
        "          17.3, 16.7, 17.4, 18.1, 17.5, 17.7, 18.3, 17.9, 17.3, 18.4, np.nan],\n",
        "    'TM': [np.nan, np.nan, 24.7, 24.7, 24.6, 25.7, 25.1, 25.5, 25.6, 25.0,\n",
        "           26.5, 25.7, 26.0, 26.8, 25.8, 26.0, 26.7, 25.9, 25.5, 26.5, np.nan],\n",
        "    'Tm': [np.nan, np.nan, 9.8, 9.9, 9.3, 9.8, 9.1, 9.7, 10.8, 9.2,\n",
        "           9.1, 8.7, 9.9, 10.9, 10.4, 10.4, 10.9, 11.0, 10.3, 11.1, np.nan],\n",
        "    'PP': [np.nan, np.nan, 0.00, 0.00, 0.00, 115.82, 291.33, 11.43, 389.62, 258.32,\n",
        "           283.18, 501.13, 362.45, 278.37, 353.01, np.nan, np.nan, np.nan, 303.99, np.nan, np.nan],\n",
        "    'V': [np.nan, np.nan, 12.6, 12.5, 13.6, 12.9, 12.9, 13.6, 13.3, 13.3,\n",
        "          13.6, 12.4, 12.4, 12.9, 12.6, 13.0, 12.8, 13.0, 12.8, 12.8, np.nan],\n",
        "    'RA': [np.nan, np.nan, 0, 0, 0, 0, 0, 0, 11, 34, 41, 52, 63, 50, 42, 49, 20, 50, 43, 31, np.nan],\n",
        "    'SN': [np.nan, np.nan, 0, 0, 0, 0, 0, 0, 0, 0, 0, 0, 0, 0, 0, 0, 0, 0, 0, 0, np.nan],\n",
        "    'TS': [np.nan, np.nan, 1, 1, 0, 50, 43, 2, 12, 34, 42, 52, 64, 50, 43, 52, 20, 51, 46, 33, np.nan],\n",
        "    'FG': [np.nan, np.nan, 0, 0, 0, 0, 0, 0, 0, 0, 0, 0, 0, 0, 0, 0, 0, 0, 0, 0, np.nan],\n",
        "    'TN': [np.nan, np.nan, 0, 0, 0, 0, 0, 0, 0, 0, 0, 0, 0, 0, 0, 0, 0, 0, 0, 0, np.nan],\n",
        "    'GR': [np.nan, np.nan, 0, 0, 0, 0, 0, 0, 0, 0, 0, 0, 0, 0, 0, 0, 0, 0, 0, 0, np.nan]\n",
        "}\n",
        "\n",
        "# Convert data dictionary to DataFrame\n",
        "df = pd.DataFrame(data)\n",
        "\n",
        "# Drop rows with missing values (assuming you want to exclude incomplete years)\n",
        "df.dropna(inplace=True)\n",
        "\n",
        "# Split dataset into features (X) and target variable (y)\n",
        "X = df.drop(['Year', 'T', 'TM', 'Tm'], axis=1)  # Features excluding Year and temperature columns\n",
        "y = df['T']  # Predicting 'T' (Average annual temperature)\n",
        "\n",
        "# Split data into training and testing sets (80% train, 20% test)\n",
        "X_train, X_test, y_train, y_test = train_test_split(X, y, test_size=0.2, random_state=42)\n",
        "\n",
        "# Train a Random Forest Regressor model\n",
        "model = RandomForestRegressor(random_state=42)\n",
        "model.fit(X_train, y_train)\n",
        "\n",
        "# Make predictions\n",
        "y_pred = model.predict(X_test)\n",
        "\n",
        "# Evaluate the model\n",
        "mse = mean_squared_error(y_test, y_pred)\n",
        "r2 = r2_score(y_test, y_pred)\n",
        "print(f'Mean Squared Error: {mse:.2f}')\n",
        "print(f'R^2 Score: {r2:.2f}')\n"
      ]
    }
  ]
}